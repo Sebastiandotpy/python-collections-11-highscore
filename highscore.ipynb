{
 "cells": [
  {
   "cell_type": "code",
   "execution_count": 12,
   "metadata": {},
   "outputs": [
    {
     "name": "stdout",
     "output_type": "stream",
     "text": [
      "Paul did not participate\n",
      "Britney scored 80 points\n"
     ]
    }
   ],
   "source": [
    "def get_score(name: str, name_list: list, score_dict: dict) -> None:\n",
    "    \"\"\" Prints the score of a participant with the given name.\n",
    "    \n",
    "    Args:\n",
    "        name (str): The name of the participant.\n",
    "        name_list (list): A list of participants' names.\n",
    "        score_dict (dict): A dictionary of participants' scores.\n",
    "        \n",
    "    Returns:\n",
    "        None.\n",
    "    \"\"\"\n",
    "    try:\n",
    "        score = score_dict[name.lower()]  # Get the score of the participant (ignoring case)\n",
    "        print(f\"{name} scored {score} points\")\n",
    "    except KeyError: \n",
    "        print(f\"{name} did not participate\")\n",
    "\n",
    "if __name__ == '__main__':\n",
    "    name_list = ['Brian', 'Britney', 'Ben']\n",
    "    score_dict = {'brian': 25, 'britney': 80, 'ben': 50}\n",
    "    get_score('Paul', name_list, score_dict)  \n",
    "    get_score('Britney', name_list, score_dict) \n",
    "\n",
    "\n"
   ]
  },
  {
   "cell_type": "code",
   "execution_count": 11,
   "metadata": {},
   "outputs": [
    {
     "name": "stdout",
     "output_type": "stream",
     "text": [
      "Paul did not participate\n",
      "Britney scored 80\n"
     ]
    }
   ],
   "source": [
    "def get_score(participant: str, participants: list, scores: dict) -> None:\n",
    "    \"\"\" Prints the score of a participant.\n",
    "    \n",
    "    Args:\n",
    "        participant (str): The name of the participant.\n",
    "        participants (list): A list of participants' names.\n",
    "        scores (dict): A dictionary of participants' scores.\n",
    "        \n",
    "    Returns:\n",
    "        None.\n",
    "    \"\"\"\n",
    "    if not participants:\n",
    "        print(f\"{participant.title()} did not participate\")\n",
    "    elif participant.lower() not in [p.lower() for p in participants]:  # If the participant is not in the list of participants (ignoring case)\n",
    "        print(f\"{participant.title()} did not participate\")\n",
    "    else:  \n",
    "        print(f\"{participant.title()} scored {scores[participant.lower()]}\")\n",
    "\n",
    "if __name__ == '__main__':\n",
    "    participants = ['Brian', 'Britney', 'Ben']\n",
    "    scores = {'brian': 25, 'britney': 80, 'ben': 50}\n",
    "    get_score('Paul', participants, scores) \n",
    "    get_score('Britney', participants, scores)  "
   ]
  }
 ],
 "metadata": {
  "kernelspec": {
   "display_name": "Python 3",
   "language": "python",
   "name": "python3"
  },
  "language_info": {
   "codemirror_mode": {
    "name": "ipython",
    "version": 3
   },
   "file_extension": ".py",
   "mimetype": "text/x-python",
   "name": "python",
   "nbconvert_exporter": "python",
   "pygments_lexer": "ipython3",
   "version": "3.11.3"
  },
  "orig_nbformat": 4
 },
 "nbformat": 4,
 "nbformat_minor": 2
}
